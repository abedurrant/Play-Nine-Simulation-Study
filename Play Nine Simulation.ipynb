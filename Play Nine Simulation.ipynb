{
 "cells": [
  {
   "cell_type": "code",
   "execution_count": 12,
   "metadata": {},
   "outputs": [],
   "source": [
    "import pandas as pd\n",
    "import numpy as np\n",
    "import random"
   ]
  },
  {
   "cell_type": "code",
   "execution_count": 88,
   "metadata": {},
   "outputs": [],
   "source": [
    "#Example Hand\n",
    "Hand = [[5,1],[4,2],[5,12],['x',0]]"
   ]
  },
  {
   "cell_type": "markdown",
   "metadata": {},
   "source": [
    "__Generate and Shuffle Deck__"
   ]
  },
  {
   "cell_type": "code",
   "execution_count": 15,
   "metadata": {},
   "outputs": [],
   "source": [
    "def GenerateDeck():\n",
    "    Deck = [-5,-5,-5,-5]\n",
    "    for i in range(13):\n",
    "        Deck.append(i)\n",
    "        Deck.append(i)\n",
    "        Deck.append(i)\n",
    "        Deck.append(i)\n",
    "        Deck.append(i)\n",
    "        Deck.append(i)\n",
    "        Deck.append(i)\n",
    "        Deck.append(i)\n",
    "        random.shuffle(Deck)\n",
    "    return Deck   "
   ]
  },
  {
   "cell_type": "code",
   "execution_count": 55,
   "metadata": {},
   "outputs": [
    {
     "name": "stdout",
     "output_type": "stream",
     "text": [
      "[5, 1]\n"
     ]
    }
   ],
   "source": [
    "exampledeck = GenerateDeck()\n",
    "twocards = exampledeck[-2:]\n",
    "print(twocards)\n",
    "#exampledeck"
   ]
  },
  {
   "cell_type": "markdown",
   "metadata": {},
   "source": [
    "__Initial Hand__"
   ]
  },
  {
   "cell_type": "code",
   "execution_count": 77,
   "metadata": {},
   "outputs": [],
   "source": [
    "def DealCards(numPlayers=4):\n",
    "    our_deck = GenerateDeck()\n",
    "    AllPlayers = []\n",
    "    Player1 = []\n",
    "    Player2 = []\n",
    "    if numPlayers > 2:\n",
    "        Player3 = []\n",
    "    if numPlayers > 3:\n",
    "        Player4 = []\n",
    "    if numPlayers > 4:\n",
    "        Player5 = []\n",
    "    if numPlayers > 5:\n",
    "        Player6 = []\n",
    "    for i in range(4):\n",
    "        twocards = our_deck[-2:]\n",
    "        our_deck.pop()\n",
    "        our_deck.pop()\n",
    "        Player1.append(twocards)\n",
    "        twocards = our_deck[-2:]\n",
    "        our_deck.pop()\n",
    "        our_deck.pop()\n",
    "        Player2.append(twocards)\n",
    "        if numPlayers > 2:\n",
    "            twocards = our_deck[-2:]\n",
    "            our_deck.pop()\n",
    "            our_deck.pop()\n",
    "            Player3.append(twocards)\n",
    "        if numPlayers > 3:\n",
    "            twocards = our_deck[-2:]\n",
    "            our_deck.pop()\n",
    "            our_deck.pop()\n",
    "            Player4.append(twocards)\n",
    "        if numPlayers > 4:\n",
    "            twocards = our_deck[-2:]\n",
    "            our_deck.pop()\n",
    "            our_deck.pop()\n",
    "            Player5.append(twocards)\n",
    "        if numPlayers > 5:\n",
    "            twocards = our_deck[-2:]\n",
    "            our_deck.pop()\n",
    "            our_deck.pop()\n",
    "            Player6.append(twocards)\n",
    "    if numPlayers == 2:\n",
    "        return([our_deck, Player1, Player2])      \n",
    "    if numPlayers == 3:\n",
    "        return([our_deck, Player1, Player2, Player3])\n",
    "    if numPlayers == 4:\n",
    "        return([our_deck, Player1, Player2, Player3, Player4])\n",
    "    if numPlayers == 5:\n",
    "        return([our_deck, Player1, Player2, Player3, Player4, Player5])\n",
    "    if numPlayers == 6:\n",
    "        return([our_deck, Player1, Player2, Player3, Player4, Player5, Player6])"
   ]
  },
  {
   "cell_type": "code",
   "execution_count": 93,
   "metadata": {},
   "outputs": [],
   "source": [
    "#DealCards()"
   ]
  },
  {
   "cell_type": "markdown",
   "metadata": {},
   "source": [
    "__Algorithms for player decision__"
   ]
  },
  {
   "cell_type": "code",
   "execution_count": 85,
   "metadata": {},
   "outputs": [],
   "source": [
    "#Initial Card flip\n",
    "def Flip(cards, strategy = \"together\"):\n",
    "    player_known = [[\"x\",\"x\"],[\"x\",\"x\"],[\"x\",\"x\"],[\"x\",\"x\"]]\n",
    "    if strategy == \"together\":\n",
    "        player_known[0] = cards[0]\n",
    "    else:\n",
    "        player_known[0][0] = cards[0][0]\n",
    "        player_known[1][0] = cards[1][0]\n",
    "    return(player_known)"
   ]
  },
  {
   "cell_type": "code",
   "execution_count": 84,
   "metadata": {},
   "outputs": [
    {
     "data": {
      "text/plain": [
       "'x'"
      ]
     },
     "execution_count": 84,
     "metadata": {},
     "output_type": "execute_result"
    }
   ],
   "source": [
    "unknown_base = [[\"x\",\"x\"],[\"x\",\"x\"],[\"x\",\"x\"],[\"x\",\"x\"]]\n",
    "unknown_base[0][0]"
   ]
  },
  {
   "cell_type": "code",
   "execution_count": 90,
   "metadata": {},
   "outputs": [
    {
     "data": {
      "text/plain": [
       "[[5, 1], ['x', 'x'], ['x', 'x'], ['x', 'x']]"
      ]
     },
     "execution_count": 90,
     "metadata": {},
     "output_type": "execute_result"
    }
   ],
   "source": [
    "Flip(Hand)"
   ]
  },
  {
   "cell_type": "code",
   "execution_count": 120,
   "metadata": {},
   "outputs": [],
   "source": [
    "def Decision(known, unknown, discard_card, current_deck, strategy = \"None\"):\n",
    "    if strategy == \"None\":\n",
    "        return BasicDecision(known, unknown, discard_card, current_deck)\n",
    "    else:\n",
    "        return(\"unfinished\")"
   ]
  },
  {
   "cell_type": "code",
   "execution_count": 156,
   "metadata": {},
   "outputs": [],
   "source": [
    "#Just taking the card and putting it in the first available spot\n",
    "def BasicDecision(known, unknown, discard_card, current_deck):\n",
    "    decided = \"False\"\n",
    "    i = 0\n",
    "    while i < 8:\n",
    "        j = int (i / 2)\n",
    "        k = i - j*2\n",
    "        if isinstance(known[j][k], int) == False:\n",
    "            known[j][k] = current_deck[-1]\n",
    "            current_deck.pop()\n",
    "            discard_card = unknown[j][k]\n",
    "            unknown[j][k] = known[j][k]\n",
    "            return([known, unknown, discard_card, current_deck])\n",
    "        else:\n",
    "            i +=1"
   ]
  },
  {
   "cell_type": "code",
   "execution_count": 118,
   "metadata": {},
   "outputs": [
    {
     "data": {
      "text/plain": [
       "False"
      ]
     },
     "execution_count": 118,
     "metadata": {},
     "output_type": "execute_result"
    }
   ],
   "source": [
    "isinstance(\"x\", int)"
   ]
  },
  {
   "cell_type": "code",
   "execution_count": null,
   "metadata": {},
   "outputs": [],
   "source": []
  },
  {
   "cell_type": "markdown",
   "metadata": {},
   "source": [
    "__Game Simulator__"
   ]
  },
  {
   "cell_type": "code",
   "execution_count": 184,
   "metadata": {},
   "outputs": [],
   "source": [
    "#Check helper function (To see if the player is done)\n",
    "def Check(cards):\n",
    "    counter = 0\n",
    "    for i in range(0,8):\n",
    "        j = int (i / 2)\n",
    "        k = i - j*2\n",
    "        if isinstance(cards[j][k], int):\n",
    "            counter += 1\n",
    "    if counter == 8:\n",
    "        return(True)\n",
    "    else:\n",
    "        return(False)"
   ]
  },
  {
   "cell_type": "code",
   "execution_count": 186,
   "metadata": {},
   "outputs": [
    {
     "data": {
      "text/plain": [
       "False"
      ]
     },
     "execution_count": 186,
     "metadata": {},
     "output_type": "execute_result"
    }
   ],
   "source": [
    "Check([[1,2],[3,4],[5,6],[12,\"x\"]])"
   ]
  },
  {
   "cell_type": "code",
   "execution_count": null,
   "metadata": {},
   "outputs": [],
   "source": []
  },
  {
   "cell_type": "code",
   "execution_count": 205,
   "metadata": {},
   "outputs": [],
   "source": [
    "def RoundSimulator(numPlayers = 4):\n",
    "    #Dealing the Cards\n",
    "    card_deal = DealCards(numPlayers)\n",
    "    current_deck = card_deal[0]\n",
    "    unknown_base = [[\"x\",\"x\"],[\"x\",\"x\"],[\"x\",\"x\"],[\"x\",\"x\"]]\n",
    "    p1_unknown = card_deal[1]\n",
    "    p2_unknown = card_deal[2]\n",
    "    if numPlayers > 2:\n",
    "        p3_unknown = card_deal[3]\n",
    "    if numPlayers > 3:\n",
    "        p4_unknown = card_deal[4]\n",
    "    if numPlayers > 4:\n",
    "        p5_unknown = card_deal[5]\n",
    "    if numPlayers > 5:\n",
    "        p6_unknown = card_deal[6]\n",
    "    \n",
    "    #Initializing what a player can see\n",
    "    p1_known = unknown_base\n",
    "    p2_known = unknown_base\n",
    "    if numPlayers > 2:\n",
    "        p3_known = unknown_base\n",
    "    if numPlayers > 3:\n",
    "        p4_known = unknown_base\n",
    "    if numPlayers > 4:\n",
    "        p5_known = unknown_base\n",
    "    if numPlayers > 5:\n",
    "        p6_known = unknown_base\n",
    "    \n",
    "    #Initial Flip of the two cards\n",
    "    p1_known = Flip(p1_unknown)\n",
    "    p2_known = Flip(p2_unknown)\n",
    "    if numPlayers > 2:\n",
    "        p3_known = Flip(p3_unknown)\n",
    "    if numPlayers > 3:\n",
    "        p4_known = Flip(p4_unknown)\n",
    "    if numPlayers > 4:\n",
    "        p5_known = Flip(p5_unknown)\n",
    "    if numPlayers > 5:\n",
    "        p6_known = Flip(p6_unknown)\n",
    "        \n",
    "    #Starting the round\n",
    "    discard_card = current_deck[-1]\n",
    "    current_deck.pop()\n",
    "    lastround = False\n",
    "    player_out = 0\n",
    "    #No one has gone out\n",
    "    while(lastround == False):\n",
    "        if lastround == False:\n",
    "            DecisionTime = Decision(p1_known, p1_unknown, discard_card, current_deck)\n",
    "            p1_known = DecisionTime[0]\n",
    "            p1_unknown = DecisionTime[1]\n",
    "            discard_card = DecisionTime[2]\n",
    "            current_deck = DecisionTime[3]\n",
    "            if Check(p1_known):\n",
    "                lastround = True\n",
    "                player_out = 1\n",
    "                \n",
    "        if lastround == False:\n",
    "            DecisionTime = Decision(p2_known, p2_unknown, discard_card, current_deck)\n",
    "            p2_known = DecisionTime[0]\n",
    "            p2_unknown = DecisionTime[1]\n",
    "            discard_card = DecisionTime[2]\n",
    "            current_deck = DecisionTime[3]\n",
    "            if Check(p2_known):\n",
    "                lastround = True\n",
    "                player_out = 2\n",
    "\n",
    "        if numPlayers > 2:\n",
    "            if lastround == False:\n",
    "                DecisionTime = Decision(p3_known, p3_unknown, discard_card, current_deck)\n",
    "                p3_known = DecisionTime[0]\n",
    "                p3_unknown = DecisionTime[1]\n",
    "                discard_card = DecisionTime[2]\n",
    "                current_deck = DecisionTime[3]\n",
    "                if Check(p3_known):\n",
    "                    lastround = True\n",
    "                    player_out = 3\n",
    "        if numPlayers > 3:\n",
    "            if lastround == False:\n",
    "                DecisionTime = Decision(p4_known, p4_unknown, discard_card, current_deck)\n",
    "                p4_known = DecisionTime[0]\n",
    "                p4_unknown = DecisionTime[1]\n",
    "                discard_card = DecisionTime[2]\n",
    "                current_deck = DecisionTime[3]\n",
    "                if Check(p4_known):\n",
    "                    lastround = True\n",
    "                    player_out = 4\n",
    "        if numPlayers > 4:\n",
    "            if lastround == False:\n",
    "                DecisionTime = Decision(p5_known, p5_unknown, discard_card, current_deck)\n",
    "                p5_known = DecisionTime[0]\n",
    "                p5_unknown = DecisionTime[1]\n",
    "                discard_card = DecisionTime[2]\n",
    "                current_deck = DecisionTime[3]\n",
    "                if Check(p5_known):\n",
    "                    lastround = True\n",
    "                    player_out = 5\n",
    "        if numPlayers > 5:\n",
    "            if lastround == False:\n",
    "                DecisionTime = Decision(p6_known, p6_unknown, discard_card, current_deck)\n",
    "                p6_known = DecisionTime[0]\n",
    "                p6_unknown = DecisionTime[1]\n",
    "                discard_card = DecisionTime[2]\n",
    "                current_deck = DecisionTime[3]\n",
    "                if Check(p6_known):\n",
    "                    lastround = True\n",
    "                    player_out = 6\n",
    "    \n",
    "    #A player has gone out\n",
    "    if(numPlayers -  player_out == 0):\n",
    "        nextplayer = 1\n",
    "    else:\n",
    "        nextplayer = player_out + 1\n",
    "    \n",
    "    player_list = []\n",
    "    num_playersnext = numPlayers - nextplayer\n",
    "    num_playersprior = nextplayer - 2\n",
    "    for i in range(0, num_playersnext + 1):\n",
    "        player_list.append(nextplayer + i)\n",
    "    for i in range(0, num_playersprior):\n",
    "        player_list.append(i+1)\n",
    "    \n",
    "    for i in player_list:\n",
    "        if i == 1:\n",
    "            DecisionTime = Decision(p1_known, p1_unknown, discard_card, current_deck)\n",
    "            p1_known = DecisionTime[0]\n",
    "            p1_unknown = DecisionTime[1]\n",
    "            discard_card = DecisionTime[2]\n",
    "            current_deck = DecisionTime[3]\n",
    "                \n",
    "        if i == 2:\n",
    "            DecisionTime = Decision(p2_known, p2_unknown, discard_card, current_deck)\n",
    "            p2_known = DecisionTime[0]\n",
    "            p2_unknown = DecisionTime[1]\n",
    "            discard_card = DecisionTime[2]\n",
    "            current_deck = DecisionTime[3]\n",
    "\n",
    "        if i == 3:\n",
    "            DecisionTime = Decision(p3_known, p3_unknown, discard_card, current_deck)\n",
    "            p3_known = DecisionTime[0]\n",
    "            p3_unknown = DecisionTime[1]\n",
    "            discard_card = DecisionTime[2]\n",
    "            current_deck = DecisionTime[3]\n",
    "\n",
    "        if i == 4:\n",
    "            DecisionTime = Decision(p4_known, p4_unknown, discard_card, current_deck)\n",
    "            p4_known = DecisionTime[0]\n",
    "            p4_unknown = DecisionTime[1]\n",
    "            discard_card = DecisionTime[2]\n",
    "            current_deck = DecisionTime[3]\n",
    "\n",
    "        if i == 5:\n",
    "            DecisionTime = Decision(p5_known, p5_unknown, discard_card, current_deck)\n",
    "            p5_known = DecisionTime[0]\n",
    "            p5_unknown = DecisionTime[1]\n",
    "            discard_card = DecisionTime[2]\n",
    "            current_deck = DecisionTime[3]\n",
    "\n",
    "        if i == 6:\n",
    "            DecisionTime = Decision(p6_known, p6_unknown, discard_card, current_deck)\n",
    "            p6_known = DecisionTime[0]\n",
    "            p6_unknown = DecisionTime[1]\n",
    "            discard_card = DecisionTime[2]\n",
    "            current_deck = DecisionTime[3]\n",
    "    \n",
    "        \n",
    "    return([p1_unknown, p1_known, p4_unknown, p4_known, discard_card, len(current_deck), player_list])\n",
    "    "
   ]
  },
  {
   "cell_type": "code",
   "execution_count": 206,
   "metadata": {
    "scrolled": true
   },
   "outputs": [
    {
     "data": {
      "text/plain": [
       "[[[4, 7], [10, 4], [5, 5], [0, 12]],\n",
       " [[4, 7], [10, 4], [5, 5], [0, 12]],\n",
       " [[2, -5], [11, 0], [-5, 1], [3, 3]],\n",
       " [[2, -5], [11, 0], [-5, 1], [3, 3]],\n",
       " 5,\n",
       " 51,\n",
       " [2, 3, 4]]"
      ]
     },
     "execution_count": 206,
     "metadata": {},
     "output_type": "execute_result"
    }
   ],
   "source": [
    "RoundSimulator(numPlayers=4)"
   ]
  }
 ],
 "metadata": {
  "kernelspec": {
   "display_name": "Python 3",
   "language": "python",
   "name": "python3"
  },
  "language_info": {
   "codemirror_mode": {
    "name": "ipython",
    "version": 3
   },
   "file_extension": ".py",
   "mimetype": "text/x-python",
   "name": "python",
   "nbconvert_exporter": "python",
   "pygments_lexer": "ipython3",
   "version": "3.8.3"
  }
 },
 "nbformat": 4,
 "nbformat_minor": 4
}
