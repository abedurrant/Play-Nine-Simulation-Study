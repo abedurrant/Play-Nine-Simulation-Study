{
 "cells": [
  {
   "cell_type": "code",
   "execution_count": 12,
   "metadata": {},
   "outputs": [],
   "source": [
    "import pandas as pd\n",
    "import numpy as np\n",
    "import random"
   ]
  },
  {
   "cell_type": "code",
   "execution_count": 88,
   "metadata": {},
   "outputs": [],
   "source": [
    "#Example Hand\n",
    "Hand = [[5,1],[4,2],[5,12],['x',0]]"
   ]
  },
  {
   "cell_type": "markdown",
   "metadata": {},
   "source": [
    "__Generate and Shuffle Deck__"
   ]
  },
  {
   "cell_type": "code",
   "execution_count": 15,
   "metadata": {},
   "outputs": [],
   "source": [
    "def GenerateDeck():\n",
    "    Deck = [-5,-5,-5,-5]\n",
    "    for i in range(13):\n",
    "        Deck.append(i)\n",
    "        Deck.append(i)\n",
    "        Deck.append(i)\n",
    "        Deck.append(i)\n",
    "        Deck.append(i)\n",
    "        Deck.append(i)\n",
    "        Deck.append(i)\n",
    "        Deck.append(i)\n",
    "        random.shuffle(Deck)\n",
    "    return Deck   "
   ]
  },
  {
   "cell_type": "code",
   "execution_count": 55,
   "metadata": {},
   "outputs": [
    {
     "name": "stdout",
     "output_type": "stream",
     "text": [
      "[5, 1]\n"
     ]
    }
   ],
   "source": [
    "exampledeck = GenerateDeck()\n",
    "twocards = exampledeck[-2:]\n",
    "print(twocards)\n",
    "#exampledeck"
   ]
  },
  {
   "cell_type": "markdown",
   "metadata": {},
   "source": [
    "__Initial Hand__"
   ]
  },
  {
   "cell_type": "code",
   "execution_count": 77,
   "metadata": {},
   "outputs": [],
   "source": [
    "def DealCards(numPlayers=4):\n",
    "    our_deck = GenerateDeck()\n",
    "    AllPlayers = []\n",
    "    Player1 = []\n",
    "    Player2 = []\n",
    "    if numPlayers > 2:\n",
    "        Player3 = []\n",
    "    if numPlayers > 3:\n",
    "        Player4 = []\n",
    "    if numPlayers > 4:\n",
    "        Player5 = []\n",
    "    if numPlayers > 5:\n",
    "        Player6 = []\n",
    "    for i in range(4):\n",
    "        twocards = our_deck[-2:]\n",
    "        our_deck.pop()\n",
    "        our_deck.pop()\n",
    "        Player1.append(twocards)\n",
    "        twocards = our_deck[-2:]\n",
    "        our_deck.pop()\n",
    "        our_deck.pop()\n",
    "        Player2.append(twocards)\n",
    "        if numPlayers > 2:\n",
    "            twocards = our_deck[-2:]\n",
    "            our_deck.pop()\n",
    "            our_deck.pop()\n",
    "            Player3.append(twocards)\n",
    "        if numPlayers > 3:\n",
    "            twocards = our_deck[-2:]\n",
    "            our_deck.pop()\n",
    "            our_deck.pop()\n",
    "            Player4.append(twocards)\n",
    "        if numPlayers > 4:\n",
    "            twocards = our_deck[-2:]\n",
    "            our_deck.pop()\n",
    "            our_deck.pop()\n",
    "            Player5.append(twocards)\n",
    "        if numPlayers > 5:\n",
    "            twocards = our_deck[-2:]\n",
    "            our_deck.pop()\n",
    "            our_deck.pop()\n",
    "            Player6.append(twocards)\n",
    "    if numPlayers == 2:\n",
    "        return([our_deck, Player1, Player2])      \n",
    "    if numPlayers == 3:\n",
    "        return([our_deck, Player1, Player2, Player3])\n",
    "    if numPlayers == 4:\n",
    "        return([our_deck, Player1, Player2, Player3, Player4])\n",
    "    if numPlayers == 5:\n",
    "        return([our_deck, Player1, Player2, Player3, Player4, Player5])\n",
    "    if numPlayers == 6:\n",
    "        return([our_deck, Player1, Player2, Player3, Player4, Player5, Player6])"
   ]
  },
  {
   "cell_type": "code",
   "execution_count": 93,
   "metadata": {},
   "outputs": [],
   "source": [
    "#DealCards()"
   ]
  },
  {
   "cell_type": "markdown",
   "metadata": {},
   "source": [
    "__Algorithms for player decision__"
   ]
  },
  {
   "cell_type": "code",
   "execution_count": 85,
   "metadata": {},
   "outputs": [],
   "source": [
    "#Initial Card flip\n",
    "def Flip(cards, strategy = \"together\"):\n",
    "    player_known = [[\"x\",\"x\"],[\"x\",\"x\"],[\"x\",\"x\"],[\"x\",\"x\"]]\n",
    "    if strategy == \"together\":\n",
    "        player_known[0] = cards[0]\n",
    "    else:\n",
    "        player_known[0][0] = cards[0][0]\n",
    "        player_known[1][0] = cards[1][0]\n",
    "    return(player_known)"
   ]
  },
  {
   "cell_type": "code",
   "execution_count": 84,
   "metadata": {},
   "outputs": [
    {
     "data": {
      "text/plain": [
       "'x'"
      ]
     },
     "execution_count": 84,
     "metadata": {},
     "output_type": "execute_result"
    }
   ],
   "source": [
    "unknown_base = [[\"x\",\"x\"],[\"x\",\"x\"],[\"x\",\"x\"],[\"x\",\"x\"]]\n",
    "unknown_base[0][0]"
   ]
  },
  {
   "cell_type": "code",
   "execution_count": 90,
   "metadata": {},
   "outputs": [
    {
     "data": {
      "text/plain": [
       "[[5, 1], ['x', 'x'], ['x', 'x'], ['x', 'x']]"
      ]
     },
     "execution_count": 90,
     "metadata": {},
     "output_type": "execute_result"
    }
   ],
   "source": [
    "Flip(Hand)"
   ]
  },
  {
   "cell_type": "code",
   "execution_count": 120,
   "metadata": {},
   "outputs": [],
   "source": [
    "def Decision(known, unknown, discard_card, current_deck, strategy = \"None\"):\n",
    "    if strategy == \"None\":\n",
    "        return BasicDecision(known, unknown, discard_card, current_deck)\n",
    "    else:\n",
    "        return(\"unfinished\")"
   ]
  },
  {
   "cell_type": "code",
   "execution_count": 156,
   "metadata": {},
   "outputs": [],
   "source": [
    "#Just taking the card and putting it in the first available spot\n",
    "def BasicDecision(known, unknown, discard_card, current_deck):\n",
    "    decided = \"False\"\n",
    "    i = 0\n",
    "    while i < 8:\n",
    "        j = int (i / 2)\n",
    "        k = i - j*2\n",
    "        if isinstance(known[j][k], int) == False:\n",
    "            known[j][k] = current_deck[-1]\n",
    "            current_deck.pop()\n",
    "            discard_card = unknown[j][k]\n",
    "            unknown[j][k] = known[j][k]\n",
    "            return([known, unknown, discard_card, current_deck])\n",
    "        else:\n",
    "            i +=1"
   ]
  },
  {
   "cell_type": "code",
   "execution_count": 118,
   "metadata": {},
   "outputs": [
    {
     "data": {
      "text/plain": [
       "False"
      ]
     },
     "execution_count": 118,
     "metadata": {},
     "output_type": "execute_result"
    }
   ],
   "source": [
    "isinstance(\"x\", int)"
   ]
  },
  {
   "cell_type": "code",
   "execution_count": null,
   "metadata": {},
   "outputs": [],
   "source": []
  },
  {
   "cell_type": "markdown",
   "metadata": {},
   "source": [
    "__Game Simulator__"
   ]
  },
  {
   "cell_type": "code",
   "execution_count": 184,
   "metadata": {},
   "outputs": [],
   "source": [
    "#Check helper function (To see if the player is done)\n",
    "def Check(cards):\n",
    "    counter = 0\n",
    "    for i in range(0,8):\n",
    "        j = int (i / 2)\n",
    "        k = i - j*2\n",
    "        if isinstance(cards[j][k], int):\n",
    "            counter += 1\n",
    "    if counter == 8:\n",
    "        return(True)\n",
    "    else:\n",
    "        return(False)"
   ]
  },
  {
   "cell_type": "code",
   "execution_count": 230,
   "metadata": {},
   "outputs": [
    {
     "data": {
      "text/plain": [
       "-10"
      ]
     },
     "execution_count": 230,
     "metadata": {},
     "output_type": "execute_result"
    }
   ],
   "source": [
    "Scorer([[3,2],[12,12],[12,12],[12,12]])"
   ]
  },
  {
   "cell_type": "code",
   "execution_count": 211,
   "metadata": {},
   "outputs": [],
   "source": [
    "#Scoring function (to return a player's score)\n",
    "def Scorer(cards):\n",
    "    score = 0\n",
    "    pairs = 0\n",
    "    pairlist = []\n",
    "    doublepair = False\n",
    "    triplepair = False\n",
    "    for i in range(4):\n",
    "        card_one = cards[i][0]\n",
    "        card_two = cards[i][1]\n",
    "        if card_one == -5 and card_two == -5:\n",
    "            score += -10\n",
    "        elif card_one == card_two:\n",
    "            if pairs == 0:\n",
    "                pairs = 1\n",
    "                pairlist.append(card_one)\n",
    "            elif pairs == 1:\n",
    "                if card_one == pairlist[0]:\n",
    "                    score += -10\n",
    "                    pairs = 2\n",
    "                    doublepair = True\n",
    "                    ourdouble = card_one\n",
    "                else:\n",
    "                    pairs = 2\n",
    "                    pairlist.append(card_one)\n",
    "            elif pairs == 2:\n",
    "                if doublepair == True:\n",
    "                    if card_one == pairlist[0]:\n",
    "                        score += -5\n",
    "                        pairs = 3\n",
    "                        triplepair = True\n",
    "                    else:\n",
    "                        pairs = 3\n",
    "                        pairlist.append(card_one)\n",
    "                else:\n",
    "                    if card_one == pairlist[0]:\n",
    "                        score += -10\n",
    "                        pairs = 3\n",
    "                        doublepair = True\n",
    "                        ourdouble = card_one\n",
    "                    elif card_one == pairlist[1]:  \n",
    "                        score += -10\n",
    "                        pairs = 3\n",
    "                        doublepair = True\n",
    "                        ourdouble = card_one\n",
    "                    else:\n",
    "                        pairs = 3\n",
    "                        pairlist.append(card_one)\n",
    "            elif pairs == 3:\n",
    "                if triplepair == True:\n",
    "                    if card_one == pairlist[0]:\n",
    "                        score += -5\n",
    "                        pairs = 4\n",
    "                    else:\n",
    "                        pairs = 4\n",
    "                elif doublepair == True:\n",
    "                    if card_one == ourdouble:\n",
    "                        score += -5\n",
    "                        pairs = 4\n",
    "                    elif card_one == pairlist[0]:\n",
    "                        score += -5\n",
    "                        pairs = 4\n",
    "                    elif card_one == pairlist[1]:\n",
    "                        score += -5\n",
    "                        pairs = 4\n",
    "                    else:\n",
    "                        pairs = 4\n",
    "                else:\n",
    "                    if card_one == pairlist[0]:\n",
    "                        score += -10\n",
    "                        pairs = 4\n",
    "                    elif card_one == pairlist[1]:  \n",
    "                        score += -10\n",
    "                        pairs = 4\n",
    "                    elif card_one == pairlist[2]:\n",
    "                        score += -10\n",
    "                        pairs = 4\n",
    "                    else:\n",
    "                        pairs = 4\n",
    "\n",
    "        else:\n",
    "            score += card_one + card_two\n",
    "    return score\n",
    "        \n",
    "            "
   ]
  },
  {
   "cell_type": "code",
   "execution_count": 234,
   "metadata": {},
   "outputs": [],
   "source": [
    "def RoundSimulator(numPlayers = 4):\n",
    "    #Dealing the Cards\n",
    "    card_deal = DealCards(numPlayers)\n",
    "    current_deck = card_deal[0]\n",
    "    unknown_base = [[\"x\",\"x\"],[\"x\",\"x\"],[\"x\",\"x\"],[\"x\",\"x\"]]\n",
    "    p1_unknown = card_deal[1]\n",
    "    p2_unknown = card_deal[2]\n",
    "    if numPlayers > 2:\n",
    "        p3_unknown = card_deal[3]\n",
    "    if numPlayers > 3:\n",
    "        p4_unknown = card_deal[4]\n",
    "    if numPlayers > 4:\n",
    "        p5_unknown = card_deal[5]\n",
    "    if numPlayers > 5:\n",
    "        p6_unknown = card_deal[6]\n",
    "    \n",
    "    #Initializing what a player can see\n",
    "    p1_known = unknown_base\n",
    "    p2_known = unknown_base\n",
    "    if numPlayers > 2:\n",
    "        p3_known = unknown_base\n",
    "    if numPlayers > 3:\n",
    "        p4_known = unknown_base\n",
    "    if numPlayers > 4:\n",
    "        p5_known = unknown_base\n",
    "    if numPlayers > 5:\n",
    "        p6_known = unknown_base\n",
    "    \n",
    "    #Initial Flip of the two cards\n",
    "    p1_known = Flip(p1_unknown)\n",
    "    p2_known = Flip(p2_unknown)\n",
    "    if numPlayers > 2:\n",
    "        p3_known = Flip(p3_unknown)\n",
    "    if numPlayers > 3:\n",
    "        p4_known = Flip(p4_unknown)\n",
    "    if numPlayers > 4:\n",
    "        p5_known = Flip(p5_unknown)\n",
    "    if numPlayers > 5:\n",
    "        p6_known = Flip(p6_unknown)\n",
    "        \n",
    "    #Starting the round\n",
    "    discard_card = current_deck[-1]\n",
    "    current_deck.pop()\n",
    "    lastround = False\n",
    "    player_out = 0\n",
    "    #No one has gone out\n",
    "    while(lastround == False):\n",
    "        if lastround == False:\n",
    "            DecisionTime = Decision(p1_known, p1_unknown, discard_card, current_deck)\n",
    "            p1_known = DecisionTime[0]\n",
    "            p1_unknown = DecisionTime[1]\n",
    "            discard_card = DecisionTime[2]\n",
    "            current_deck = DecisionTime[3]\n",
    "            if Check(p1_known):\n",
    "                lastround = True\n",
    "                player_out = 1\n",
    "                \n",
    "        if lastround == False:\n",
    "            DecisionTime = Decision(p2_known, p2_unknown, discard_card, current_deck)\n",
    "            p2_known = DecisionTime[0]\n",
    "            p2_unknown = DecisionTime[1]\n",
    "            discard_card = DecisionTime[2]\n",
    "            current_deck = DecisionTime[3]\n",
    "            if Check(p2_known):\n",
    "                lastround = True\n",
    "                player_out = 2\n",
    "\n",
    "        if numPlayers > 2:\n",
    "            if lastround == False:\n",
    "                DecisionTime = Decision(p3_known, p3_unknown, discard_card, current_deck)\n",
    "                p3_known = DecisionTime[0]\n",
    "                p3_unknown = DecisionTime[1]\n",
    "                discard_card = DecisionTime[2]\n",
    "                current_deck = DecisionTime[3]\n",
    "                if Check(p3_known):\n",
    "                    lastround = True\n",
    "                    player_out = 3\n",
    "        if numPlayers > 3:\n",
    "            if lastround == False:\n",
    "                DecisionTime = Decision(p4_known, p4_unknown, discard_card, current_deck)\n",
    "                p4_known = DecisionTime[0]\n",
    "                p4_unknown = DecisionTime[1]\n",
    "                discard_card = DecisionTime[2]\n",
    "                current_deck = DecisionTime[3]\n",
    "                if Check(p4_known):\n",
    "                    lastround = True\n",
    "                    player_out = 4\n",
    "        if numPlayers > 4:\n",
    "            if lastround == False:\n",
    "                DecisionTime = Decision(p5_known, p5_unknown, discard_card, current_deck)\n",
    "                p5_known = DecisionTime[0]\n",
    "                p5_unknown = DecisionTime[1]\n",
    "                discard_card = DecisionTime[2]\n",
    "                current_deck = DecisionTime[3]\n",
    "                if Check(p5_known):\n",
    "                    lastround = True\n",
    "                    player_out = 5\n",
    "        if numPlayers > 5:\n",
    "            if lastround == False:\n",
    "                DecisionTime = Decision(p6_known, p6_unknown, discard_card, current_deck)\n",
    "                p6_known = DecisionTime[0]\n",
    "                p6_unknown = DecisionTime[1]\n",
    "                discard_card = DecisionTime[2]\n",
    "                current_deck = DecisionTime[3]\n",
    "                if Check(p6_known):\n",
    "                    lastround = True\n",
    "                    player_out = 6\n",
    "    \n",
    "    #A player has gone out\n",
    "    if(numPlayers -  player_out == 0):\n",
    "        nextplayer = 1\n",
    "    else:\n",
    "        nextplayer = player_out + 1\n",
    "    \n",
    "    player_list = []\n",
    "    num_playersnext = numPlayers - nextplayer\n",
    "    num_playersprior = nextplayer - 2\n",
    "    for i in range(0, num_playersnext + 1):\n",
    "        player_list.append(nextplayer + i)\n",
    "    for i in range(0, num_playersprior):\n",
    "        player_list.append(i+1)\n",
    "    \n",
    "    for i in player_list:\n",
    "        if i == 1:\n",
    "            DecisionTime = Decision(p1_known, p1_unknown, discard_card, current_deck)\n",
    "            p1_known = DecisionTime[0]\n",
    "            p1_unknown = DecisionTime[1]\n",
    "            discard_card = DecisionTime[2]\n",
    "            current_deck = DecisionTime[3]\n",
    "                \n",
    "        if i == 2:\n",
    "            DecisionTime = Decision(p2_known, p2_unknown, discard_card, current_deck)\n",
    "            p2_known = DecisionTime[0]\n",
    "            p2_unknown = DecisionTime[1]\n",
    "            discard_card = DecisionTime[2]\n",
    "            current_deck = DecisionTime[3]\n",
    "\n",
    "        if i == 3:\n",
    "            DecisionTime = Decision(p3_known, p3_unknown, discard_card, current_deck)\n",
    "            p3_known = DecisionTime[0]\n",
    "            p3_unknown = DecisionTime[1]\n",
    "            discard_card = DecisionTime[2]\n",
    "            current_deck = DecisionTime[3]\n",
    "\n",
    "        if i == 4:\n",
    "            DecisionTime = Decision(p4_known, p4_unknown, discard_card, current_deck)\n",
    "            p4_known = DecisionTime[0]\n",
    "            p4_unknown = DecisionTime[1]\n",
    "            discard_card = DecisionTime[2]\n",
    "            current_deck = DecisionTime[3]\n",
    "\n",
    "        if i == 5:\n",
    "            DecisionTime = Decision(p5_known, p5_unknown, discard_card, current_deck)\n",
    "            p5_known = DecisionTime[0]\n",
    "            p5_unknown = DecisionTime[1]\n",
    "            discard_card = DecisionTime[2]\n",
    "            current_deck = DecisionTime[3]\n",
    "\n",
    "        if i == 6:\n",
    "            DecisionTime = Decision(p6_known, p6_unknown, discard_card, current_deck)\n",
    "            p6_known = DecisionTime[0]\n",
    "            p6_unknown = DecisionTime[1]\n",
    "            discard_card = DecisionTime[2]\n",
    "            current_deck = DecisionTime[3]\n",
    "    p1_score = Scorer(p1_known)\n",
    "    p2_score = Scorer(p2_known)\n",
    "    if numPlayers > 2:\n",
    "        p3_score = Scorer(p3_known)\n",
    "    if numPlayers > 3:\n",
    "        p4_score = Scorer(p4_known)\n",
    "    if numPlayers > 4:\n",
    "        p5_score = Scorer(p5_known)\n",
    "    if numPlayers > 5:\n",
    "        p6_score = Scorer(p6_known)\n",
    "        \n",
    "    if numPlayers == 2:\n",
    "        return([p1_score, p2_score])\n",
    "    if numPlayers == 3:\n",
    "        return([p1_score, p2_score, p3_score])\n",
    "    if numPlayers == 4:\n",
    "        return([p1_score, p2_score, p3_score, p4_score])\n",
    "    if numPlayers == 5:\n",
    "        return([p1_score, p2_score, p3_score, p4_score, p5_score])   \n",
    "    if numPlayers == 6:\n",
    "        return([p1_score, p2_score, p3_score, p4_score, p5_score, p6_score])  \n",
    "\n",
    "    "
   ]
  },
  {
   "cell_type": "code",
   "execution_count": 258,
   "metadata": {
    "scrolled": true
   },
   "outputs": [
    {
     "data": {
      "text/plain": [
       "[26, 29, 45, 29]"
      ]
     },
     "execution_count": 258,
     "metadata": {},
     "output_type": "execute_result"
    }
   ],
   "source": [
    "RoundSimulator(numPlayers=4)"
   ]
  },
  {
   "cell_type": "code",
   "execution_count": 259,
   "metadata": {},
   "outputs": [],
   "source": [
    "def GameSimulator(numPlayers=4):\n",
    "    p1_score = 0\n",
    "    p2_score = 0\n",
    "    if numPlayers > 2:\n",
    "        p3_score = 0\n",
    "    if numPlayers > 3:\n",
    "        p4_score = 0\n",
    "    if numPlayers > 4:\n",
    "        p5_score = 0\n",
    "    if numPlayers > 5:\n",
    "        p6_score = 0\n",
    "        \n",
    "    for i in range(0,9):\n",
    "        p1_score += RoundSimulator(numPlayers)[0]\n",
    "        p2_score += RoundSimulator(numPlayers)[1]\n",
    "        if numPlayers > 2:\n",
    "            p3_score += RoundSimulator(numPlayers)[2]\n",
    "        if numPlayers > 3:\n",
    "            p4_score += RoundSimulator(numPlayers)[3]\n",
    "        if numPlayers > 4:\n",
    "            p5_score += RoundSimulator(numPlayers)[4]\n",
    "        if numPlayers > 5:\n",
    "            p6_score += RoundSimulator(numPlayers)[5]\n",
    "            \n",
    "    if numPlayers == 2:\n",
    "        return([p1_score, p2_score])\n",
    "    if numPlayers == 3:\n",
    "        return([p1_score, p2_score, p3_score])\n",
    "    if numPlayers == 4:\n",
    "        return([p1_score, p2_score, p3_score, p4_score])\n",
    "    if numPlayers == 5:\n",
    "        return([p1_score, p2_score, p3_score, p4_score, p5_score])   \n",
    "    if numPlayers == 6:\n",
    "        return([p1_score, p2_score, p3_score, p4_score, p5_score, p6_score])  "
   ]
  },
  {
   "cell_type": "code",
   "execution_count": 290,
   "metadata": {},
   "outputs": [
    {
     "data": {
      "text/plain": [
       "[294, 371, 397, 299]"
      ]
     },
     "execution_count": 290,
     "metadata": {},
     "output_type": "execute_result"
    }
   ],
   "source": [
    "GameSimulator()"
   ]
  },
  {
   "cell_type": "code",
   "execution_count": 292,
   "metadata": {},
   "outputs": [
    {
     "name": "stdout",
     "output_type": "stream",
     "text": [
      "373.425\n",
      "375.52\n",
      "373.807\n",
      "374.448\n"
     ]
    },
    {
     "ename": "TypeError",
     "evalue": "unsupported operand type(s) for +: 'int' and 'list'",
     "output_type": "error",
     "traceback": [
      "\u001b[1;31m---------------------------------------------------------------------------\u001b[0m",
      "\u001b[1;31mTypeError\u001b[0m                                 Traceback (most recent call last)",
      "\u001b[1;32m<ipython-input-292-9966cc37665c>\u001b[0m in \u001b[0;36m<module>\u001b[1;34m\u001b[0m\n\u001b[0;32m     14\u001b[0m \u001b[0mprint\u001b[0m\u001b[1;33m(\u001b[0m\u001b[0msum\u001b[0m\u001b[1;33m(\u001b[0m\u001b[0mp3_scores\u001b[0m\u001b[1;33m)\u001b[0m\u001b[1;33m/\u001b[0m\u001b[1;36m1000\u001b[0m\u001b[1;33m)\u001b[0m\u001b[1;33m\u001b[0m\u001b[1;33m\u001b[0m\u001b[0m\n\u001b[0;32m     15\u001b[0m \u001b[0mprint\u001b[0m\u001b[1;33m(\u001b[0m\u001b[0msum\u001b[0m\u001b[1;33m(\u001b[0m\u001b[0mp4_scores\u001b[0m\u001b[1;33m)\u001b[0m\u001b[1;33m/\u001b[0m\u001b[1;36m1000\u001b[0m\u001b[1;33m)\u001b[0m\u001b[1;33m\u001b[0m\u001b[1;33m\u001b[0m\u001b[0m\n\u001b[1;32m---> 16\u001b[1;33m \u001b[0mprint\u001b[0m\u001b[1;33m(\u001b[0m\u001b[0msum\u001b[0m\u001b[1;33m(\u001b[0m\u001b[1;33m[\u001b[0m\u001b[0mp1_scores\u001b[0m\u001b[1;33m,\u001b[0m \u001b[0mp2_scores\u001b[0m\u001b[1;33m,\u001b[0m \u001b[0mp3_scores\u001b[0m\u001b[1;33m,\u001b[0m \u001b[0mp4_scores\u001b[0m\u001b[1;33m]\u001b[0m\u001b[1;33m)\u001b[0m\u001b[1;33m/\u001b[0m\u001b[1;36m1000\u001b[0m\u001b[1;33m)\u001b[0m\u001b[1;33m\u001b[0m\u001b[1;33m\u001b[0m\u001b[0m\n\u001b[0m",
      "\u001b[1;31mTypeError\u001b[0m: unsupported operand type(s) for +: 'int' and 'list'"
     ]
    }
   ],
   "source": [
    "#1000 Simulations\n",
    "p1_scores = []\n",
    "p2_scores = []\n",
    "p3_scores = []\n",
    "p4_scores = []\n",
    "for i in range(0,1000):\n",
    "    simulation = GameSimulator()\n",
    "    p1_scores.append(simulation[0])\n",
    "    p2_scores.append(simulation[1])\n",
    "    p3_scores.append(simulation[2])\n",
    "    p4_scores.append(simulation[3])\n",
    "print(sum(p1_scores)/1000)\n",
    "print(sum(p2_scores)/1000)\n",
    "print(sum(p3_scores)/1000)\n",
    "print(sum(p4_scores)/1000)"
   ]
  }
 ],
 "metadata": {
  "kernelspec": {
   "display_name": "Python 3",
   "language": "python",
   "name": "python3"
  },
  "language_info": {
   "codemirror_mode": {
    "name": "ipython",
    "version": 3
   },
   "file_extension": ".py",
   "mimetype": "text/x-python",
   "name": "python",
   "nbconvert_exporter": "python",
   "pygments_lexer": "ipython3",
   "version": "3.8.3"
  }
 },
 "nbformat": 4,
 "nbformat_minor": 4
}
